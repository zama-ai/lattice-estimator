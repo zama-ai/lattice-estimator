{
 "cells": [
  {
   "cell_type": "markdown",
   "id": "3140b888",
   "metadata": {},
   "source": [
    "Notebook created: 2022-10-19 14:32:52  \n",
    "Generated from: docs/algorithms/lwe-dual.rst  "
   ]
  },
  {
   "cell_type": "markdown",
   "id": "def13ec7",
   "metadata": {},
   "source": [
    "\n",
    "<a id='lwe-dual-attacks'></a>"
   ]
  },
  {
   "cell_type": "markdown",
   "id": "b002840c",
   "metadata": {},
   "source": [
    "# LWE Dual Attacks\n",
    "\n",
    "We construct an (easy) example LWE instance:"
   ]
  },
  {
   "cell_type": "code",
   "execution_count": null,
   "id": "8690a42f",
   "metadata": {
    "hide-output": false
   },
   "outputs": [],
   "source": [
    "from estimator import *\n",
    "params = LWE.Parameters(n=200, q=7981, Xs=ND.SparseTernary(384, 16), Xe=ND.CenteredBinomial(4))\n",
    "params"
   ]
  },
  {
   "cell_type": "markdown",
   "id": "2a32e885",
   "metadata": {},
   "source": [
    "The simples (and quickest to estimate) algorithm is the “plain” dual attack as described in [[PQCBook:MicReg09]](../references.ipynb#pqcbook-micreg09):"
   ]
  },
  {
   "cell_type": "code",
   "execution_count": null,
   "id": "39df6753",
   "metadata": {
    "hide-output": false
   },
   "outputs": [],
   "source": [
    "LWE.dual(params)"
   ]
  },
  {
   "cell_type": "markdown",
   "id": "3b48c6a2",
   "metadata": {},
   "source": [
    "We can improve these results by considering a dual hybrid attack as in [EC:Albrecht17,INDOCRYPT:EspJouKha20]_:"
   ]
  },
  {
   "cell_type": "code",
   "execution_count": null,
   "id": "69c1b609",
   "metadata": {
    "hide-output": false
   },
   "outputs": [],
   "source": [
    "LWE.dual_hybrid(params)"
   ]
  },
  {
   "cell_type": "markdown",
   "id": "ed48bff8",
   "metadata": {},
   "source": [
    "Further improvements are possible using a meet-in-the-middle approach [[EPRINT:CHHS19]](../references.ipynb#eprint-chhs19):"
   ]
  },
  {
   "cell_type": "code",
   "execution_count": null,
   "id": "d6fd53ab",
   "metadata": {
    "hide-output": false
   },
   "outputs": [],
   "source": [
    "LWE.dual_hybrid(params, mitm_optimization=True)"
   ]
  }
 ],
 "metadata": {
  "date": 1666189972.4746144,
  "filename": "lwe-dual.rst",
  "kernelspec": {
   "display_name": "SageMath",
   "language": "sage",
   "name": "sagemath"
  },
  "title": "LWE Dual Attacks"
 },
 "nbformat": 4,
 "nbformat_minor": 5
}